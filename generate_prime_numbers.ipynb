{
  "nbformat": 4,
  "nbformat_minor": 0,
  "metadata": {
    "colab": {
      "name": "generate prime numbers.ipynb",
      "provenance": [],
      "include_colab_link": true
    },
    "kernelspec": {
      "name": "python3",
      "display_name": "Python 3"
    }
  },
  "cells": [
    {
      "cell_type": "markdown",
      "metadata": {
        "id": "view-in-github",
        "colab_type": "text"
      },
      "source": [
        "<a href=\"https://colab.research.google.com/github/djaliloua/Ali-Abdou/blob/master/generate_prime_numbers.ipynb\" target=\"_parent\"><img src=\"https://colab.research.google.com/assets/colab-badge.svg\" alt=\"Open In Colab\"/></a>"
      ]
    },
    {
      "cell_type": "code",
      "metadata": {
        "id": "2LOqEUw5cxVz",
        "colab_type": "code",
        "colab": {}
      },
      "source": [
        "# In this short tutorial, we are going top display a step by way to generate prime numbers\n",
        "# But frist let's start by providing Great Commen Divisor of a and b ,gcd(a,b) where a and are both integers\n",
        "def gcd(a,b):\n",
        "  while b!=0:\n",
        "    a,b=b,a%b\n",
        "  return a"
      ],
      "execution_count": 0,
      "outputs": []
    },
    {
      "cell_type": "code",
      "metadata": {
        "id": "0ygngEiJvy-y",
        "colab_type": "code",
        "colab": {}
      },
      "source": [
        "# Example gcd(32,6)\n",
        "gcd(32,6) # 2\n",
        "gcd(9,108)# 9"
      ],
      "execution_count": 0,
      "outputs": []
    },
    {
      "cell_type": "code",
      "metadata": {
        "id": "bJbMdfrVwQQd",
        "colab_type": "code",
        "colab": {}
      },
      "source": [
        "# Next step is to check if an integer different from 0 and 1 is a prime number \n",
        "def is_prime(n):\n",
        "  if n==2:\n",
        "    return True\n",
        "  ls=[gcd(n,i) for i in range(2,(n-1))]\n",
        "  if [1]*len(ls)==ls:\n",
        "    return True\n",
        "  return False"
      ],
      "execution_count": 0,
      "outputs": []
    },
    {
      "cell_type": "code",
      "metadata": {
        "id": "7aOAmu0xx4ax",
        "colab_type": "code",
        "colab": {
          "base_uri": "https://localhost:8080/",
          "height": 34
        },
        "outputId": "1b5e5de0-50e5-400b-af1b-7f20093f8f4d"
      },
      "source": [
        "is_prime(4)# True"
      ],
      "execution_count": 43,
      "outputs": [
        {
          "output_type": "execute_result",
          "data": {
            "text/plain": [
              "False"
            ]
          },
          "metadata": {
            "tags": []
          },
          "execution_count": 43
        }
      ]
    },
    {
      "cell_type": "code",
      "metadata": {
        "id": "6H51IbuZyeUa",
        "colab_type": "code",
        "colab": {}
      },
      "source": [
        "# Last step is to generate sequence of prime number\n",
        "# to do so, we first of all generate a squence of integers up to a certain n and filter out those that are not primes\n",
        "def primes(n):\n",
        "  return list(filter(is_prime,range(2,n)))"
      ],
      "execution_count": 0,
      "outputs": []
    },
    {
      "cell_type": "code",
      "metadata": {
        "id": "iAsymYdn0p5Z",
        "colab_type": "code",
        "colab": {
          "base_uri": "https://localhost:8080/",
          "height": 34
        },
        "outputId": "d1e7d630-5b72-428a-be19-274f70ed7715"
      },
      "source": [
        "primes(8) # [2, 3, 5, 7]"
      ],
      "execution_count": 45,
      "outputs": [
        {
          "output_type": "execute_result",
          "data": {
            "text/plain": [
              "[2, 3, 5, 7]"
            ]
          },
          "metadata": {
            "tags": []
          },
          "execution_count": 45
        }
      ]
    }
  ]
}